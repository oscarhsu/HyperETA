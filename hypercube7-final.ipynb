{
 "cells": [
  {
   "cell_type": "code",
   "execution_count": 35,
   "metadata": {},
   "outputs": [],
   "source": [
    "import json\n",
    "import pickle\n",
    "import numpy\n",
    "import pandas\n",
    "from pandas import DataFrame\n",
    "from dtw import accelerated_dtw\n",
    "import math\n",
    "from math import cos\n",
    "from math import sin\n",
    "from math import radians\n",
    "from math import asin\n",
    "#pandas.set_option('display.max_rows', 100)\n",
    "\n",
    "epLat = 0.012160099999998054\n",
    "epLng = 0.014610749999992125\n",
    "epTime = 255"
   ]
  },
  {
   "cell_type": "code",
   "execution_count": 30,
   "metadata": {},
   "outputs": [],
   "source": [
    "with open('trajTrain.pickle', 'rb') as f:\n",
    "  trajTrainDict = pickle.load(f)\n",
    "  trajTrain = trajTrainDict['trajTrain']\n",
    "  trajTrainOri = trajTrainDict['trajTrainOri']\n",
    "  mappingTrain = trajTrainDict['mappingTrain']\n",
    "\n"
   ]
  },
  {
   "cell_type": "code",
   "execution_count": null,
   "metadata": {},
   "outputs": [],
   "source": [
    "\n",
    "with open('trajTest.pickle', 'rb') as f:\n",
    "    trajTrainDict = pickle.load(f)\n",
    "    trajTest = trajTrainDict['trajTest']\n",
    "    trajTestOri = trajTrainDict['trajTestOri']\n",
    "    mappingTest = trajTrainDict['mappingTest']"
   ]
  },
  {
   "cell_type": "code",
   "execution_count": null,
   "metadata": {},
   "outputs": [],
   "source": [
    "with open('trajTest_5.pickle', 'rb') as f:\n",
    "    trajTrainDict = pickle.load(f)\n",
    "    trajTest = trajTrainDict['trajTest']\n",
    "    trajTestOri = trajTrainDict['trajTestOri']\n",
    "    mappingTest = trajTrainDict['mappingTest']"
   ]
  },
  {
   "cell_type": "code",
   "execution_count": 12,
   "metadata": {},
   "outputs": [],
   "source": [
    "\n",
    "\n",
    "\n",
    "def getOverlayOneCubeWithPointAmount(trajList1, trajList2, dtime, distX, distY, angDiffConst, pointAmountRatio=0):\n",
    "    maxTime = trajList1[9] + dtime\n",
    "    minTime = trajList1[9] - dtime\n",
    "    trajList3 = trajList2.loc[(trajList2[9] > minTime) & (trajList2[9] < maxTime),]\n",
    "    if trajList3.size <= 0:\n",
    "        #print('trajList3.size <= 0')\n",
    "        return None\n",
    "    trajList4 = trajList3.loc[abs(trajList3[9] - trajList1[9]) < dtime,]\n",
    "    if trajList4.size <= 0:\n",
    "        #print('trajList4.size <= 0, < dtime')\n",
    "        return None\n",
    "    trajList4 = trajList4.loc[abs(trajList4[3] - trajList1[3]) < distX,]\n",
    "    if trajList4.size <= 0:\n",
    "        #print('trajList4.size <= 0, < distX')\n",
    "        return None\n",
    "    trajList4 = trajList4.loc[abs(trajList4[4] - trajList1[4]) < distY,]\n",
    "    if trajList4.size <= 0:\n",
    "        #print('trajList4.size <= 0, < distY')\n",
    "        return None\n",
    "    trajList4 = trajList4.loc[angleDiff(trajList4[8], trajList1[8]) < angDiffConst,]\n",
    "    if trajList4.size <= 0:\n",
    "        #print('trajList4.size <= 0, < angDiffConst')\n",
    "        return None\n",
    "    while pointAmountRatio > 0:\n",
    "      trajList5 = trajList4.loc[abs(trajList4[0] - trajList1[0]) < (trajList1[0] * (1 - pointAmountRatio)),]\n",
    "      if trajList5.size > 0:\n",
    "        trajList4 = trajList5\n",
    "        break\n",
    "      pointAmountRatio -= 0.1\n",
    "    if trajList4.size <= 0:\n",
    "      return None\n",
    "    n1 = trajList4.shape[0]\n",
    "    area1 = DataFrame(numpy.zeros((n1, 3), dtype=int))\n",
    "    area1[0] = trajList4[5].values  # 其它軌\n",
    "    area1[1] = trajList4[1].values  # 其它軌第幾cube\n",
    "    area1[2] = trajList4.index.values  # 其它軌此cube在總名單上第幾\n",
    "    return area1\n",
    "\n",
    "def getOverlayOneCube(trajList1,trajList2,dtime,distX,distY,angDiffConst):\n",
    "\tmaxTime = trajList1[9] + dtime\n",
    "\tminTime = trajList1[9] - dtime\n",
    "\ttrajList3 = trajList2.loc[(trajList2[9] > minTime) & (trajList2[9] < maxTime),]\n",
    "\ttrajList4 = trajList3.loc[abs(trajList3[9] - trajList1[9]) < dtime,]\n",
    "\ttrajList4 = trajList4.loc[abs(trajList4[3] - trajList1[3]) < distX,]\n",
    "\ttrajList4 = trajList4.loc[abs(trajList4[4] - trajList1[4]) < distY,]\n",
    "\ttrajList4 = trajList4.loc[angleDiff(trajList4[8],trajList1[8]) < angDiffConst,]\n",
    "\tn1 = trajList4.shape[0]\n",
    "\tarea1 = DataFrame(numpy.zeros((n1,3), dtype=int))\n",
    "\tarea1[0] = trajList4[5].values  #其它軌\n",
    "\tarea1[1] = trajList4[1].values  #其它軌第幾cube\n",
    "\tarea1[2] = trajList4.index.values  #其它軌此cube在總名單上第幾\n",
    "\treturn area1\n",
    "\n",
    "#設計一個相反也可以的判斷，另外def，但getOverlayOneCube回傳是相反方向要注明，不然算時間找下一點的方向會錯\n",
    "def angleDiff(a ,b):\n",
    "\tresult = abs(a - b)\n",
    "\tresult = result.values\n",
    "\tif len(a) > 1:\n",
    "\t\tindex = result > 180\n",
    "\t\tresult[index] = 360 - result[index]\n",
    "\telse:\n",
    "\t\tif result > 180:\n",
    "\t\t\tresult = 360 - result\n",
    "\treturn result\n",
    "\n",
    "\n",
    "def getDistance(x,y):\n",
    "\tLong1,Lat1 = x\n",
    "\tLong2,Lat2 = y\n",
    "\tdeltaX = cos(radians(Lat2))*cos(radians(Long2)) \\\n",
    "\t\t\t - cos(radians(Lat1)) * cos(radians(Long1))\n",
    "\tdeltaY = cos(radians(Lat2))*sin(radians(Long2)) \\\n",
    "\t\t\t - cos(radians(Lat1)) * sin(radians(Long1))\n",
    "\tdeltaZ = sin(radians(Lat2)) - sin(radians(Lat1))\n",
    "\tC = numpy.linalg.norm(numpy.array([deltaX, deltaY, deltaZ]))\n",
    "\tdeltaSigma = 2 * asin(C/2)\n",
    "\td = round( 6371 * 1000 * deltaSigma )\n",
    "\treturn d\n",
    "\n",
    "\n",
    "def getDTWeachRow(row,x,mappingTrain,trajTrainOri):\n",
    "    tempTrajOriNo = mappingTrain.loc[\n",
    "            (mappingTrain[2] == row[5]) &\n",
    "            (mappingTrain[4] == row[1])\n",
    "            ,3].to_list()\n",
    "    y = trajTrainOri.loc[\n",
    "            (trajTrainOri[5] == row[5]) &\n",
    "            (trajTrainOri[1].isin( tempTrajOriNo ))\n",
    "            ,[3,4]].to_numpy()\n",
    "    d, cost_matrix, acc_cost_matrix, path = accelerated_dtw(x,y,getDistance)\n",
    "    return d\n",
    "\n",
    "\n",
    "def getTimeByMinDtw(targetNo,\n",
    "                    area,\n",
    "                    targetTrajOri,\n",
    "                    targetMapping,\n",
    "                    trajTrain,\n",
    "                    trajTrainOri,\n",
    "                    mappingTrain):\n",
    "  trajTrainCubesIndex = area[2]\n",
    "\n",
    "  targetTrajOriResetIndex = targetTrajOri.set_index(1)\n",
    "  x = targetTrajOriResetIndex.loc[\n",
    "    targetMapping.loc[targetMapping[4] == targetNo, 3],\n",
    "    [3, 4]\n",
    "  ].to_numpy()\n",
    "\n",
    "  # result = []\n",
    "  dfTrajNoWiCubeNo = trajTrain.loc[trajTrainCubesIndex, [5, 1]]\n",
    "  n = dfTrajNoWiCubeNo.shape[0]\n",
    "  result = dfTrajNoWiCubeNo.apply(getDTWeachRow, axis=1, args=(x, mappingTrain, trajTrainOri))\n",
    "  minIndex = result.idxmin()\n",
    "  minTrajTrain = trajTrain.loc[minIndex,]\n",
    "  commonTime = trajTrain.loc[minIndex, 10] - trajTrain.loc[minIndex, 9]\n",
    "  return (commonTime,minIndex,result[minIndex])\n",
    "\n",
    "# 2020/06/23\n",
    "\n",
    "def getFullTime2(cube,trajTrainOri,mappingTrain):\n",
    "    targetTrainOri = trajTrainOri.loc[(trajTrainOri[5] == cube[5]),]\n",
    "    indexOri = mappingTrain.loc[(mappingTrain[2] == cube[5]) & (mappingTrain[4] == cube[1]) , 3]\n",
    "    result = targetTrainOri.iloc[indexOri.to_list()[-1],]\n",
    "    return result['postTime']\n",
    "\n",
    "def getTestResult4OneTarget2(targetTrajNo,\n",
    "                             trajTest,\n",
    "                             trajTestOri,\n",
    "                             mappingTest,\n",
    "                             trajTrain,\n",
    "                             trajTrainOri,\n",
    "                             mappingTrain,\n",
    "                             epLng, epLat):\n",
    "  targetTraj = trajTest.loc[trajTest[5] == targetTrajNo,].copy()\n",
    "  targetTrajOri = trajTestOri.loc[trajTestOri[5] == targetTrajNo,].copy()\n",
    "  targetMapping = mappingTest.loc[mappingTest[2] == targetTrajNo,].copy()\n",
    "  #result = ignoreBeginOrLastOnePointCube(targetTraj, targetTrajOri, targetMapping, epLng, epLat)\n",
    "  #result = ignoreBeginOrLastOnePointCube_Origi(targetTraj, targetTrajOri, targetMapping)\n",
    "  #if result is None:\n",
    "  #  return (0, 0, 0, None)\n",
    "  #targetNew, targetOriNew = result\n",
    "  targetNew = targetTraj.copy()\n",
    "  targetOriNew = targetTrajOri.copy()\n",
    "  targetNew2 = targetNew.copy()\n",
    "  realTime = targetNew.iloc[-1, 10] - targetNew.iloc[0, 9]\n",
    "  realTime2 = realTime\n",
    "  totalTime = 0\n",
    "  n = targetNew.shape[0]\n",
    "  commonTime = 0\n",
    "\n",
    "  tempExpResult = numpy.zeros((n, 4), dtype='int')\n",
    "  tempExpResult[:, 0] = targetNew.iloc[:, 10] - targetNew.iloc[:, 9]\n",
    "  listArea = []\n",
    "  nextPointTime = 0\n",
    "  prePointTime = 0\n",
    "  preCubeTimeDiff = 0\n",
    "  preNextPointTime = 0\n",
    "  countAreaNone = 0\n",
    "  for i2 in range(n):\n",
    "    if i2 > 0:\n",
    "      targetNew.iloc[i2, 9] = targetNew.iloc[i2 - 1, 9] + commonTime\n",
    "    tau = 3600\n",
    "    maxAngle = 10\n",
    "    area = getOverlayOneCubeWithPointAmount(targetNew.iloc[i2,],\n",
    "                                            trajTrain,\n",
    "                                            tau,\n",
    "                                            epLng,\n",
    "                                            epLat,\n",
    "                                            maxAngle, 0.5)\n",
    "    if area is None:\n",
    "      countAreaNone += 1\n",
    "      print('ERROR: index=', i2, ' area is None')\n",
    "      flagGiveUp = False\n",
    "      epLngEpLatMultiply = 1\n",
    "      while area is None:\n",
    "            if tau < 86400:\n",
    "                tau += 3600\n",
    "            elif maxAngle < 180:\n",
    "                maxAngle = 180\n",
    "            elif epLngEpLatMultiply < 10:\n",
    "                epLngEpLatMultiply += 1\n",
    "            else:\n",
    "                flagGiveUp = True\n",
    "                break\n",
    "            area = getOverlayOneCubeWithPointAmount(targetNew.iloc[i2,],\n",
    "                                            trajTrain,\n",
    "                                            tau,\n",
    "                                            epLng*epLngEpLatMultiply,\n",
    "                                            epLat*epLngEpLatMultiply,\n",
    "                                            maxAngle, 0.5)\n",
    "      if flagGiveUp:\n",
    "        print('Give Up!')\n",
    "        continue\n",
    "    \n",
    "    commonTime,minIndex,dtwResult = getTimeByMinDtw(targetNew.iloc[i2, 1],\n",
    "                                 area,\n",
    "                                 targetOriNew,\n",
    "                                 targetMapping,\n",
    "                                 trajTrain,\n",
    "                                 trajTrainOri,\n",
    "                                 mappingTrain)\n",
    "    commonTime2 = getFullTime2(trajTrain.loc[minIndex,],trajTrainOri,mappingTrain)\n",
    "    commonTime += commonTime2\n",
    "    tempExpResult[i2, 2] = commonTime\n",
    "    totalTime += commonTime\n",
    "    tempExpResult[i2, 3] = dtwResult\n",
    "    confidence = float(n - countAreaNone) /float(n)\n",
    "  return (totalTime, realTime, realTime2, tempExpResult, confidence)\n",
    "\n"
   ]
  },
  {
   "cell_type": "code",
   "execution_count": 13,
   "metadata": {},
   "outputs": [
    {
     "name": "stdout",
     "output_type": "stream",
     "text": [
      "ERROR: index= 0  area is None\n",
      "ERROR: index= 1  area is None\n",
      "ERROR: index= 2  area is None\n"
     ]
    }
   ],
   "source": [
    "targetTrajNo = 424\n",
    "totalTime,realTime,realTime2,tempExpResult,confidence = \\\n",
    "    getTestResult4OneTarget2(targetTrajNo,\n",
    "                            trajTest,\n",
    "                            trajTestOri,\n",
    "                            mappingTest,\n",
    "                            trajTrain,\n",
    "                            trajTrainOri,\n",
    "                            mappingTrain,\n",
    "                            epLng,epLat)"
   ]
  },
  {
   "cell_type": "code",
   "execution_count": 14,
   "metadata": {},
   "outputs": [
    {
     "name": "stdout",
     "output_type": "stream",
     "text": [
      "982.0 \n",
      " 1261 \n",
      " 1261 \n",
      " [[ 250    0  199 4290]\n",
      " [  21    0  271 2499]\n",
      " [ 231    0  139 1249]\n",
      " [  59    0   90  517]\n",
      " [  90    0  122  896]\n",
      " [ 121    0   80  646]\n",
      " [  69    0   81  522]] \n",
      " 0.5714285714285714\n"
     ]
    }
   ],
   "source": [
    "print(totalTime,\"\\n\",realTime,\"\\n\",realTime2,\"\\n\",tempExpResult,\"\\n\",confidence)"
   ]
  },
  {
   "cell_type": "code",
   "execution_count": 4,
   "metadata": {},
   "outputs": [],
   "source": [
    "trajNoList = numpy.unique(trajTest[5])\n",
    "\n",
    "expResult = numpy.zeros((trajNoList.max()+1,6),dtype='int')\n",
    "#expResult[:,2] = 0\n",
    "expResult[:,4] = list(range(trajNoList.max()+1))\n",
    "#\n",
    "#expTotalResult = 0"
   ]
  },
  {
   "cell_type": "code",
   "execution_count": null,
   "metadata": {},
   "outputs": [
    {
     "name": "stdout",
     "output_type": "stream",
     "text": [
      "1 2 3 4 5 6 7 8 9 10 11 12 13 14 15 16 17 18 19 20 21 22 23 24 25 26 27 28 29 30 31 32 33 34 35 36 37 38 39 40 41 42 43 44 45 46 47 48 49 50 51 52 53 54 55 56 57 58 59 60 61 62 63 64 65 66 67 68 69 70 71 72 73 74 75 76 77 78 79 80 81 82 83 84 85 86 87 88 89 90 91 92 93 94 95 96 97 98 99 100 101 102 103 104 105 106 107 108 109 110 111 112 113 114 115 116 117 118 119 120 121 122 123 124 125 126 127 128 129 130 131 132 133 134 135 136 137 138 139 140 141 142 143 144 145 146 147 148 149 150 151 152 153 154 155 156 157 158 159 160 161 162 ERROR: index= 4  area is None\n",
      "163 164 165 166 167 168 169 170 171 172 173 174 175 176 177 178 179 180 181 182 183 184 185 186 187 188 189 190 191 192 193 194 195 196 197 198 199 200 201 202 203 204 205 206 207 208 209 210 211 212 213 214 215 216 217 218 219 220 221 222 223 224 225 226 227 228 229 230 231 232 233 234 235 236 237 238 239 240 241 242 243 244 245 246 247 248 249 250 251 252 253 254 255 256 257 258 259 260 261 262 263 264 265 266 267 268 269 270 271 272 273 274 275 276 277 "
     ]
    }
   ],
   "source": [
    "#\n",
    "for targetTrajNo in trajNoList[:800]:\n",
    "    print(targetTrajNo, end=' ')\n",
    "    totalTime,realTime,realTime2,tempExpResult,confidence = \\\n",
    "        getTestResult4OneTarget2(targetTrajNo,\n",
    "                            trajTest,\n",
    "                            trajTestOri,\n",
    "                            mappingTest,\n",
    "                            trajTrain,\n",
    "                            trajTrainOri,\n",
    "                            mappingTrain,\n",
    "                            epLng,epLat)\n",
    "    expResult[targetTrajNo,0] = 1\n",
    "    expResult[targetTrajNo,1] = totalTime\n",
    "    expResult[targetTrajNo,3] = realTime\n",
    "    expResult[targetTrajNo,5] = confidence"
   ]
  },
  {
   "cell_type": "code",
   "execution_count": 19,
   "metadata": {},
   "outputs": [
    {
     "data": {
      "text/plain": [
       "array([[   0,    0,    0,    0,  800,    0],\n",
       "       [   1, 2182,    0, 2171,  801,    1],\n",
       "       [   1, 2121,    0, 1809,  802,    1],\n",
       "       ...,\n",
       "       [   1, 1474,    0, 1057, 1398,    1],\n",
       "       [   1, 2171,    0, 1320, 1399,    1],\n",
       "       [   1,  628,    0, 1065, 1400,    1]])"
      ]
     },
     "execution_count": 19,
     "metadata": {},
     "output_type": "execute_result"
    }
   ],
   "source": [
    "expResult[800:1401]"
   ]
  },
  {
   "cell_type": "code",
   "execution_count": 36,
   "metadata": {},
   "outputs": [],
   "source": [
    "with open('expResult_trajTest_5.pickle', 'rb') as f:\n",
    "      expResult_5 = pickle.load(f)"
   ]
  },
  {
   "cell_type": "code",
   "execution_count": 38,
   "metadata": {},
   "outputs": [],
   "source": [
    "with open('expResult_trajTest_5_10.pickle', 'rb') as f:\n",
    "      expResult_5_10 = pickle.load(f)"
   ]
  },
  {
   "cell_type": "code",
   "execution_count": 39,
   "metadata": {},
   "outputs": [],
   "source": [
    "with open('expResult_trajTest_10_15.pickle', 'rb') as f:\n",
    "      expResult_10_15 = pickle.load(f)"
   ]
  },
  {
   "cell_type": "code",
   "execution_count": 40,
   "metadata": {},
   "outputs": [],
   "source": [
    "with open('expResult_trajTest_15_20.pickle', 'rb') as f:\n",
    "      expResult_15_20 = pickle.load(f)"
   ]
  },
  {
   "cell_type": "code",
   "execution_count": 41,
   "metadata": {},
   "outputs": [],
   "source": [
    "with open('expResult_trajTest_20_25.pickle', 'rb') as f:\n",
    "      expResult_20_25 = pickle.load(f)"
   ]
  },
  {
   "cell_type": "code",
   "execution_count": 42,
   "metadata": {},
   "outputs": [],
   "source": [
    "with open('expResult_trajTest_25_30.pickle', 'rb') as f:\n",
    "      expResult_25_30 = pickle.load(f)"
   ]
  },
  {
   "cell_type": "code",
   "execution_count": 47,
   "metadata": {},
   "outputs": [],
   "source": [
    "expResult = numpy.concatenate( (expResult_5[1:], expResult_5_10[1:], expResult_10_15[1:], expResult_15_20[1:], expResult_20_25[1:], expResult_25_30[1:]) )"
   ]
  },
  {
   "cell_type": "code",
   "execution_count": null,
   "metadata": {},
   "outputs": [],
   "source": []
  },
  {
   "cell_type": "code",
   "execution_count": 23,
   "metadata": {},
   "outputs": [],
   "source": [
    "with open('expResult1-1401.pickle', 'wb') as f:\n",
    "      pickle.dump(expResult,f)"
   ]
  },
  {
   "cell_type": "code",
   "execution_count": 48,
   "metadata": {},
   "outputs": [
    {
     "data": {
      "text/plain": [
       "array([[1.00000000e+00, 6.04000000e+02, 0.00000000e+00, 3.78000000e+02,\n",
       "        1.00000000e+00, 1.00000000e+00],\n",
       "       [1.00000000e+00, 2.18300000e+03, 0.00000000e+00, 2.08200000e+03,\n",
       "        2.00000000e+00, 1.00000000e+00],\n",
       "       [1.00000000e+00, 9.40000000e+02, 0.00000000e+00, 1.06600000e+03,\n",
       "        3.00000000e+00, 1.00000000e+00],\n",
       "       ...,\n",
       "       [1.00000000e+00, 1.54100000e+03, 0.00000000e+00, 1.42900000e+03,\n",
       "        4.00000000e+00, 9.33333333e-01],\n",
       "       [1.00000000e+00, 1.75100000e+03, 0.00000000e+00, 1.98900000e+03,\n",
       "        5.00000000e+00, 1.00000000e+00],\n",
       "       [1.00000000e+00, 2.07800000e+03, 0.00000000e+00, 2.43200000e+03,\n",
       "        6.00000000e+00, 1.00000000e+00]])"
      ]
     },
     "execution_count": 48,
     "metadata": {},
     "output_type": "execute_result"
    }
   ],
   "source": [
    "expResult"
   ]
  },
  {
   "cell_type": "code",
   "execution_count": null,
   "metadata": {
    "scrolled": false
   },
   "outputs": [],
   "source": [
    "expResult[1:100]"
   ]
  },
  {
   "cell_type": "code",
   "execution_count": 27,
   "metadata": {},
   "outputs": [],
   "source": [
    "expResult[1:801,:5] = expResult_1_800[1:801]"
   ]
  },
  {
   "cell_type": "code",
   "execution_count": 52,
   "metadata": {},
   "outputs": [
    {
     "data": {
      "text/plain": [
       "array([1.        , 1.        , 1.        , ..., 0.93333333, 1.        ,\n",
       "       1.        ])"
      ]
     },
     "execution_count": 52,
     "metadata": {},
     "output_type": "execute_result"
    }
   ],
   "source": [
    "expResult[:,5]"
   ]
  },
  {
   "cell_type": "code",
   "execution_count": 50,
   "metadata": {},
   "outputs": [
    {
     "data": {
      "text/plain": [
       "array([59.78835979,  4.85110471, 11.81988743, ..., 13.36283186,\n",
       "       11.96581197, 14.55592105])"
      ]
     },
     "execution_count": 50,
     "metadata": {},
     "output_type": "execute_result"
    }
   ],
   "source": [
    "#expResult2 = expResult[numpy.where((expResult[:,0] == 1) & (expResult[:,1] >= 1000) )]\n",
    "#expResult2 = expResult[1:1401]\n",
    "expResult2 = expResult[numpy.where((expResult[:,5] == 1) )]\n",
    "\n",
    "deviation = numpy.absolute(expResult2[:,1] - expResult2[:,3])\n",
    "eachAPE = deviation * 100 / expResult2[:,3] \n",
    "#eachAPE = eachAPE.astype(int)\n",
    "#eachAPE[[49,6,11,60]] = 0\n",
    "eachAPE"
   ]
  },
  {
   "cell_type": "code",
   "execution_count": 25,
   "metadata": {},
   "outputs": [
    {
     "data": {
      "text/plain": [
       "20.52642857142857"
      ]
     },
     "execution_count": 25,
     "metadata": {},
     "output_type": "execute_result"
    }
   ],
   "source": []
  },
  {
   "cell_type": "code",
   "execution_count": 26,
   "metadata": {},
   "outputs": [
    {
     "data": {
      "text/plain": [
       "269.7257142857143"
      ]
     },
     "execution_count": 26,
     "metadata": {},
     "output_type": "execute_result"
    }
   ],
   "source": []
  },
  {
   "cell_type": "code",
   "execution_count": 51,
   "metadata": {},
   "outputs": [
    {
     "name": "stdout",
     "output_type": "stream",
     "text": [
      "MAPE= 20.899779733013784\n",
      "RMSE= 416.64437059031235\n",
      "MAE= 267.60913705583755\n"
     ]
    }
   ],
   "source": [
    "#MAPE\n",
    "print('MAPE=', eachAPE.mean())\n",
    "#RMSE\n",
    "print('RMSE=', numpy.sqrt( (numpy.square(deviation) ).mean() ) )\n",
    "#MAE\n",
    "print('MAE=', deviation.mean() )"
   ]
  }
 ],
 "metadata": {
  "kernelspec": {
   "display_name": "Python 3",
   "language": "python",
   "name": "python3"
  },
  "language_info": {
   "codemirror_mode": {
    "name": "ipython",
    "version": 3
   },
   "file_extension": ".py",
   "mimetype": "text/x-python",
   "name": "python",
   "nbconvert_exporter": "python",
   "pygments_lexer": "ipython3",
   "version": "3.7.7"
  },
  "varInspector": {
   "cols": {
    "lenName": 16,
    "lenType": 16,
    "lenVar": 40
   },
   "kernels_config": {
    "python": {
     "delete_cmd_postfix": "",
     "delete_cmd_prefix": "del ",
     "library": "var_list.py",
     "varRefreshCmd": "print(var_dic_list())"
    },
    "r": {
     "delete_cmd_postfix": ") ",
     "delete_cmd_prefix": "rm(",
     "library": "var_list.r",
     "varRefreshCmd": "cat(var_dic_list()) "
    }
   },
   "types_to_exclude": [
    "module",
    "function",
    "builtin_function_or_method",
    "instance",
    "_Feature"
   ],
   "window_display": false
  }
 },
 "nbformat": 4,
 "nbformat_minor": 4
}
